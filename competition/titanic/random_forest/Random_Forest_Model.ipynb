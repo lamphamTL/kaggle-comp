{
 "cells": [
  {
   "cell_type": "code",
   "id": "initial_id",
   "metadata": {
    "collapsed": true,
    "ExecuteTime": {
     "end_time": "2025-09-03T21:56:39.232143Z",
     "start_time": "2025-09-03T21:56:38.219895Z"
    }
   },
   "source": [
    "import numpy as np\n",
    "from sklearn.ensemble import RandomForestClassifier\n",
    "from sklearn.model_selection import train_test_split\n",
    "from itertools import product\n",
    "from competition.titanic.FeaturesEngineering import *\n",
    "import warnings\n",
    "warnings.filterwarnings(\"error\", category=FutureWarning)\n",
    "\n",
    "from sklearn.pipeline import Pipeline"
   ],
   "outputs": [
    {
     "name": "stdout",
     "output_type": "stream",
     "text": [
      "(891, 11)\n",
      "(891,)\n"
     ]
    }
   ],
   "execution_count": 2
  },
  {
   "metadata": {
    "ExecuteTime": {
     "end_time": "2025-09-03T21:56:39.250838Z",
     "start_time": "2025-09-03T21:56:39.246505Z"
    }
   },
   "cell_type": "code",
   "source": [
    "df = pd.read_csv(\"../data/train.csv\", delimiter=\",\")\n",
    "\n",
    "features = [x for x in df.columns if x != \"Survived\"]\n",
    "x, y = df[features], df[\"Survived\"].T\n",
    "print(x.shape)\n",
    "print(y.shape)"
   ],
   "id": "bb48712c863d68f2",
   "outputs": [
    {
     "name": "stdout",
     "output_type": "stream",
     "text": [
      "(891, 11)\n",
      "(891,)\n"
     ]
    }
   ],
   "execution_count": 3
  },
  {
   "metadata": {
    "ExecuteTime": {
     "end_time": "2025-09-03T21:56:39.471498Z",
     "start_time": "2025-09-03T21:56:39.468112Z"
    }
   },
   "cell_type": "code",
   "source": "X_train, X_cv, y_train, y_cv = train_test_split(x, y, train_size=0.8, random_state=1)",
   "id": "78f301c3491e3f22",
   "outputs": [],
   "execution_count": 4
  },
  {
   "metadata": {
    "ExecuteTime": {
     "end_time": "2025-09-03T21:56:44.847061Z",
     "start_time": "2025-09-03T21:56:44.843201Z"
    }
   },
   "cell_type": "code",
   "source": [
    "print(f\"X train: {X_train.shape}\")\n",
    "print(f\"Y train: {y_train.shape}\")\n",
    "print(f\"X cv: {X_cv.shape}\")\n",
    "print(f\"y cv: {y_cv.shape}\")\n"
   ],
   "id": "b9c74300ffcb5360",
   "outputs": [
    {
     "name": "stdout",
     "output_type": "stream",
     "text": [
      "X train: (712, 11)\n",
      "Y train: (712,)\n",
      "X cv: (179, 11)\n",
      "y cv: (179,)\n"
     ]
    }
   ],
   "execution_count": 5
  },
  {
   "metadata": {
    "ExecuteTime": {
     "end_time": "2025-09-03T21:56:45.894495Z",
     "start_time": "2025-09-03T21:56:45.890954Z"
    }
   },
   "cell_type": "code",
   "source": [
    "max_depth_list = [2, 3, 4, 5, 6, 7, 8]\n",
    "min_samples_split_list = [30, 50, 100, 150, 200, 250, 300]\n",
    "n_estimators_list = [50, 100, 150, 200]"
   ],
   "id": "8825c4c77a69a762",
   "outputs": [],
   "execution_count": 6
  },
  {
   "metadata": {
    "ExecuteTime": {
     "end_time": "2025-09-03T21:58:54.117092Z",
     "start_time": "2025-09-03T21:58:40.810440Z"
    }
   },
   "cell_type": "code",
   "source": [
    "def eval_models(X_train, y_train, X_cv, y_cv, max_depth, min_samples_split, n_estimators, feature_transformer):\n",
    "    model = Pipeline(steps=[\n",
    "        (\"preprocessor\", feature_transformer),\n",
    "        (\"classifier\", RandomForestClassifier(n_estimators=n_estimators,\n",
    "                                              max_depth=max_depth,\n",
    "                                              min_samples_split=min_samples_split,\n",
    "                                              random_state=1))\n",
    "    ])\n",
    "    model.fit(X_train, y_train)\n",
    "    y_train_hat = model.predict(X_train)\n",
    "    train_accuracy = np.mean(y_train_hat == y_train)\n",
    "    y_cv_hat = model.predict(X_cv)\n",
    "    cv_accuracy = np.mean(y_cv == y_cv_hat)\n",
    "    print(\n",
    "        f\"Max depth: {max_depth}, Min sample split: {min_samples_split}, N estimators: {n_estimators}, Train accuracy: {train_accuracy}, CV accuracy: {cv_accuracy}\")\n",
    "    return model, max_depth, min_samples_split, n_estimators, train_accuracy, cv_accuracy\n",
    "\n",
    "\n",
    "model_evals = [\n",
    "    eval_models(X_train, y_train, X_cv, y_cv, max_depth, min_samples_split, n_estimators, engineer_features()) for\n",
    "    max_depth, min_samples_split, n_estimators in product(max_depth_list, min_samples_split_list, n_estimators_list)]\n",
    "\n",
    "best_model_params = max(model_evals, key=lambda x: x[4])\n",
    "print(best_model_params[-4:])"
   ],
   "id": "6c0ddb1fcff877c2",
   "outputs": [
    {
     "name": "stdout",
     "output_type": "stream",
     "text": [
      "Max depth: 2, Min sample split: 30, N estimators: 50, Train accuracy: 0.7710674157303371, CV accuracy: 0.6927374301675978\n",
      "Max depth: 2, Min sample split: 30, N estimators: 100, Train accuracy: 0.7893258426966292, CV accuracy: 0.7821229050279329\n",
      "Max depth: 2, Min sample split: 30, N estimators: 150, Train accuracy: 0.7893258426966292, CV accuracy: 0.776536312849162\n",
      "Max depth: 2, Min sample split: 30, N estimators: 200, Train accuracy: 0.7893258426966292, CV accuracy: 0.776536312849162\n",
      "Max depth: 2, Min sample split: 50, N estimators: 50, Train accuracy: 0.7710674157303371, CV accuracy: 0.6927374301675978\n",
      "Max depth: 2, Min sample split: 50, N estimators: 100, Train accuracy: 0.7893258426966292, CV accuracy: 0.7821229050279329\n",
      "Max depth: 2, Min sample split: 50, N estimators: 150, Train accuracy: 0.7893258426966292, CV accuracy: 0.776536312849162\n",
      "Max depth: 2, Min sample split: 50, N estimators: 200, Train accuracy: 0.7893258426966292, CV accuracy: 0.776536312849162\n",
      "Max depth: 2, Min sample split: 100, N estimators: 50, Train accuracy: 0.7710674157303371, CV accuracy: 0.6927374301675978\n",
      "Max depth: 2, Min sample split: 100, N estimators: 100, Train accuracy: 0.7893258426966292, CV accuracy: 0.7821229050279329\n",
      "Max depth: 2, Min sample split: 100, N estimators: 150, Train accuracy: 0.7893258426966292, CV accuracy: 0.7821229050279329\n",
      "Max depth: 2, Min sample split: 100, N estimators: 200, Train accuracy: 0.7893258426966292, CV accuracy: 0.776536312849162\n",
      "Max depth: 2, Min sample split: 150, N estimators: 50, Train accuracy: 0.7935393258426966, CV accuracy: 0.7597765363128491\n",
      "Max depth: 2, Min sample split: 150, N estimators: 100, Train accuracy: 0.7949438202247191, CV accuracy: 0.770949720670391\n",
      "Max depth: 2, Min sample split: 150, N estimators: 150, Train accuracy: 0.7893258426966292, CV accuracy: 0.7821229050279329\n",
      "Max depth: 2, Min sample split: 150, N estimators: 200, Train accuracy: 0.7893258426966292, CV accuracy: 0.776536312849162\n",
      "Max depth: 2, Min sample split: 200, N estimators: 50, Train accuracy: 0.7921348314606742, CV accuracy: 0.7597765363128491\n",
      "Max depth: 2, Min sample split: 200, N estimators: 100, Train accuracy: 0.7893258426966292, CV accuracy: 0.7821229050279329\n",
      "Max depth: 2, Min sample split: 200, N estimators: 150, Train accuracy: 0.7893258426966292, CV accuracy: 0.7821229050279329\n",
      "Max depth: 2, Min sample split: 200, N estimators: 200, Train accuracy: 0.7893258426966292, CV accuracy: 0.776536312849162\n",
      "Max depth: 2, Min sample split: 250, N estimators: 50, Train accuracy: 0.7921348314606742, CV accuracy: 0.7597765363128491\n",
      "Max depth: 2, Min sample split: 250, N estimators: 100, Train accuracy: 0.7893258426966292, CV accuracy: 0.7821229050279329\n",
      "Max depth: 2, Min sample split: 250, N estimators: 150, Train accuracy: 0.7893258426966292, CV accuracy: 0.7821229050279329\n",
      "Max depth: 2, Min sample split: 250, N estimators: 200, Train accuracy: 0.7893258426966292, CV accuracy: 0.776536312849162\n",
      "Max depth: 2, Min sample split: 300, N estimators: 50, Train accuracy: 0.7907303370786517, CV accuracy: 0.770949720670391\n",
      "Max depth: 2, Min sample split: 300, N estimators: 100, Train accuracy: 0.7893258426966292, CV accuracy: 0.776536312849162\n",
      "Max depth: 2, Min sample split: 300, N estimators: 150, Train accuracy: 0.7893258426966292, CV accuracy: 0.776536312849162\n",
      "Max depth: 2, Min sample split: 300, N estimators: 200, Train accuracy: 0.7893258426966292, CV accuracy: 0.776536312849162\n",
      "Max depth: 3, Min sample split: 30, N estimators: 50, Train accuracy: 0.7949438202247191, CV accuracy: 0.770949720670391\n",
      "Max depth: 3, Min sample split: 30, N estimators: 100, Train accuracy: 0.7949438202247191, CV accuracy: 0.770949720670391\n",
      "Max depth: 3, Min sample split: 30, N estimators: 150, Train accuracy: 0.7935393258426966, CV accuracy: 0.776536312849162\n",
      "Max depth: 3, Min sample split: 30, N estimators: 200, Train accuracy: 0.7907303370786517, CV accuracy: 0.776536312849162\n",
      "Max depth: 3, Min sample split: 50, N estimators: 50, Train accuracy: 0.7949438202247191, CV accuracy: 0.770949720670391\n",
      "Max depth: 3, Min sample split: 50, N estimators: 100, Train accuracy: 0.7935393258426966, CV accuracy: 0.776536312849162\n",
      "Max depth: 3, Min sample split: 50, N estimators: 150, Train accuracy: 0.7935393258426966, CV accuracy: 0.776536312849162\n",
      "Max depth: 3, Min sample split: 50, N estimators: 200, Train accuracy: 0.7893258426966292, CV accuracy: 0.7821229050279329\n",
      "Max depth: 3, Min sample split: 100, N estimators: 50, Train accuracy: 0.7935393258426966, CV accuracy: 0.7597765363128491\n",
      "Max depth: 3, Min sample split: 100, N estimators: 100, Train accuracy: 0.7949438202247191, CV accuracy: 0.770949720670391\n",
      "Max depth: 3, Min sample split: 100, N estimators: 150, Train accuracy: 0.7949438202247191, CV accuracy: 0.770949720670391\n",
      "Max depth: 3, Min sample split: 100, N estimators: 200, Train accuracy: 0.7949438202247191, CV accuracy: 0.770949720670391\n",
      "Max depth: 3, Min sample split: 150, N estimators: 50, Train accuracy: 0.7893258426966292, CV accuracy: 0.7486033519553073\n",
      "Max depth: 3, Min sample split: 150, N estimators: 100, Train accuracy: 0.7907303370786517, CV accuracy: 0.7486033519553073\n",
      "Max depth: 3, Min sample split: 150, N estimators: 150, Train accuracy: 0.7935393258426966, CV accuracy: 0.7597765363128491\n",
      "Max depth: 3, Min sample split: 150, N estimators: 200, Train accuracy: 0.7935393258426966, CV accuracy: 0.7597765363128491\n",
      "Max depth: 3, Min sample split: 200, N estimators: 50, Train accuracy: 0.7907303370786517, CV accuracy: 0.7486033519553073\n",
      "Max depth: 3, Min sample split: 200, N estimators: 100, Train accuracy: 0.7921348314606742, CV accuracy: 0.7541899441340782\n",
      "Max depth: 3, Min sample split: 200, N estimators: 150, Train accuracy: 0.7921348314606742, CV accuracy: 0.7541899441340782\n",
      "Max depth: 3, Min sample split: 200, N estimators: 200, Train accuracy: 0.7921348314606742, CV accuracy: 0.7541899441340782\n",
      "Max depth: 3, Min sample split: 250, N estimators: 50, Train accuracy: 0.7907303370786517, CV accuracy: 0.7486033519553073\n",
      "Max depth: 3, Min sample split: 250, N estimators: 100, Train accuracy: 0.7921348314606742, CV accuracy: 0.7541899441340782\n",
      "Max depth: 3, Min sample split: 250, N estimators: 150, Train accuracy: 0.7949438202247191, CV accuracy: 0.7653631284916201\n",
      "Max depth: 3, Min sample split: 250, N estimators: 200, Train accuracy: 0.7921348314606742, CV accuracy: 0.7541899441340782\n",
      "Max depth: 3, Min sample split: 300, N estimators: 50, Train accuracy: 0.7907303370786517, CV accuracy: 0.770949720670391\n",
      "Max depth: 3, Min sample split: 300, N estimators: 100, Train accuracy: 0.7893258426966292, CV accuracy: 0.776536312849162\n",
      "Max depth: 3, Min sample split: 300, N estimators: 150, Train accuracy: 0.7893258426966292, CV accuracy: 0.776536312849162\n",
      "Max depth: 3, Min sample split: 300, N estimators: 200, Train accuracy: 0.7893258426966292, CV accuracy: 0.776536312849162\n",
      "Max depth: 4, Min sample split: 30, N estimators: 50, Train accuracy: 0.7963483146067416, CV accuracy: 0.770949720670391\n",
      "Max depth: 4, Min sample split: 30, N estimators: 100, Train accuracy: 0.7963483146067416, CV accuracy: 0.770949720670391\n",
      "Max depth: 4, Min sample split: 30, N estimators: 150, Train accuracy: 0.7963483146067416, CV accuracy: 0.770949720670391\n",
      "Max depth: 4, Min sample split: 30, N estimators: 200, Train accuracy: 0.7963483146067416, CV accuracy: 0.770949720670391\n",
      "Max depth: 4, Min sample split: 50, N estimators: 50, Train accuracy: 0.7935393258426966, CV accuracy: 0.7597765363128491\n",
      "Max depth: 4, Min sample split: 50, N estimators: 100, Train accuracy: 0.7963483146067416, CV accuracy: 0.770949720670391\n",
      "Max depth: 4, Min sample split: 50, N estimators: 150, Train accuracy: 0.7963483146067416, CV accuracy: 0.770949720670391\n",
      "Max depth: 4, Min sample split: 50, N estimators: 200, Train accuracy: 0.7963483146067416, CV accuracy: 0.770949720670391\n",
      "Max depth: 4, Min sample split: 100, N estimators: 50, Train accuracy: 0.7921348314606742, CV accuracy: 0.7541899441340782\n",
      "Max depth: 4, Min sample split: 100, N estimators: 100, Train accuracy: 0.7935393258426966, CV accuracy: 0.7597765363128491\n",
      "Max depth: 4, Min sample split: 100, N estimators: 150, Train accuracy: 0.7963483146067416, CV accuracy: 0.770949720670391\n",
      "Max depth: 4, Min sample split: 100, N estimators: 200, Train accuracy: 0.7963483146067416, CV accuracy: 0.770949720670391\n",
      "Max depth: 4, Min sample split: 150, N estimators: 50, Train accuracy: 0.776685393258427, CV accuracy: 0.7486033519553073\n",
      "Max depth: 4, Min sample split: 150, N estimators: 100, Train accuracy: 0.7780898876404494, CV accuracy: 0.7541899441340782\n",
      "Max depth: 4, Min sample split: 150, N estimators: 150, Train accuracy: 0.7921348314606742, CV accuracy: 0.7541899441340782\n",
      "Max depth: 4, Min sample split: 150, N estimators: 200, Train accuracy: 0.7921348314606742, CV accuracy: 0.7541899441340782\n",
      "Max depth: 4, Min sample split: 200, N estimators: 50, Train accuracy: 0.7724719101123596, CV accuracy: 0.7597765363128491\n",
      "Max depth: 4, Min sample split: 200, N estimators: 100, Train accuracy: 0.7893258426966292, CV accuracy: 0.7486033519553073\n",
      "Max depth: 4, Min sample split: 200, N estimators: 150, Train accuracy: 0.7921348314606742, CV accuracy: 0.7541899441340782\n",
      "Max depth: 4, Min sample split: 200, N estimators: 200, Train accuracy: 0.7963483146067416, CV accuracy: 0.7486033519553073\n",
      "Max depth: 4, Min sample split: 250, N estimators: 50, Train accuracy: 0.7935393258426966, CV accuracy: 0.7486033519553073\n",
      "Max depth: 4, Min sample split: 250, N estimators: 100, Train accuracy: 0.7893258426966292, CV accuracy: 0.7541899441340782\n",
      "Max depth: 4, Min sample split: 250, N estimators: 150, Train accuracy: 0.7921348314606742, CV accuracy: 0.7541899441340782\n",
      "Max depth: 4, Min sample split: 250, N estimators: 200, Train accuracy: 0.7921348314606742, CV accuracy: 0.7541899441340782\n",
      "Max depth: 4, Min sample split: 300, N estimators: 50, Train accuracy: 0.7907303370786517, CV accuracy: 0.770949720670391\n",
      "Max depth: 4, Min sample split: 300, N estimators: 100, Train accuracy: 0.7893258426966292, CV accuracy: 0.776536312849162\n",
      "Max depth: 4, Min sample split: 300, N estimators: 150, Train accuracy: 0.7893258426966292, CV accuracy: 0.776536312849162\n",
      "Max depth: 4, Min sample split: 300, N estimators: 200, Train accuracy: 0.7893258426966292, CV accuracy: 0.776536312849162\n",
      "Max depth: 5, Min sample split: 30, N estimators: 50, Train accuracy: 0.7963483146067416, CV accuracy: 0.770949720670391\n",
      "Max depth: 5, Min sample split: 30, N estimators: 100, Train accuracy: 0.7963483146067416, CV accuracy: 0.770949720670391\n",
      "Max depth: 5, Min sample split: 30, N estimators: 150, Train accuracy: 0.7963483146067416, CV accuracy: 0.770949720670391\n",
      "Max depth: 5, Min sample split: 30, N estimators: 200, Train accuracy: 0.7963483146067416, CV accuracy: 0.770949720670391\n",
      "Max depth: 5, Min sample split: 50, N estimators: 50, Train accuracy: 0.7949438202247191, CV accuracy: 0.7653631284916201\n",
      "Max depth: 5, Min sample split: 50, N estimators: 100, Train accuracy: 0.7963483146067416, CV accuracy: 0.770949720670391\n",
      "Max depth: 5, Min sample split: 50, N estimators: 150, Train accuracy: 0.7963483146067416, CV accuracy: 0.770949720670391\n",
      "Max depth: 5, Min sample split: 50, N estimators: 200, Train accuracy: 0.7963483146067416, CV accuracy: 0.770949720670391\n",
      "Max depth: 5, Min sample split: 100, N estimators: 50, Train accuracy: 0.7921348314606742, CV accuracy: 0.7541899441340782\n",
      "Max depth: 5, Min sample split: 100, N estimators: 100, Train accuracy: 0.7935393258426966, CV accuracy: 0.7597765363128491\n",
      "Max depth: 5, Min sample split: 100, N estimators: 150, Train accuracy: 0.7963483146067416, CV accuracy: 0.770949720670391\n",
      "Max depth: 5, Min sample split: 100, N estimators: 200, Train accuracy: 0.7935393258426966, CV accuracy: 0.7597765363128491\n",
      "Max depth: 5, Min sample split: 150, N estimators: 50, Train accuracy: 0.7696629213483146, CV accuracy: 0.7597765363128491\n",
      "Max depth: 5, Min sample split: 150, N estimators: 100, Train accuracy: 0.7710674157303371, CV accuracy: 0.7597765363128491\n",
      "Max depth: 5, Min sample split: 150, N estimators: 150, Train accuracy: 0.7879213483146067, CV accuracy: 0.7486033519553073\n",
      "Max depth: 5, Min sample split: 150, N estimators: 200, Train accuracy: 0.7935393258426966, CV accuracy: 0.7486033519553073\n",
      "Max depth: 5, Min sample split: 200, N estimators: 50, Train accuracy: 0.7710674157303371, CV accuracy: 0.7597765363128491\n",
      "Max depth: 5, Min sample split: 200, N estimators: 100, Train accuracy: 0.7710674157303371, CV accuracy: 0.7597765363128491\n",
      "Max depth: 5, Min sample split: 200, N estimators: 150, Train accuracy: 0.7893258426966292, CV accuracy: 0.7486033519553073\n",
      "Max depth: 5, Min sample split: 200, N estimators: 200, Train accuracy: 0.7963483146067416, CV accuracy: 0.7486033519553073\n",
      "Max depth: 5, Min sample split: 250, N estimators: 50, Train accuracy: 0.7879213483146067, CV accuracy: 0.7486033519553073\n",
      "Max depth: 5, Min sample split: 250, N estimators: 100, Train accuracy: 0.7921348314606742, CV accuracy: 0.7486033519553073\n",
      "Max depth: 5, Min sample split: 250, N estimators: 150, Train accuracy: 0.7921348314606742, CV accuracy: 0.7541899441340782\n",
      "Max depth: 5, Min sample split: 250, N estimators: 200, Train accuracy: 0.7921348314606742, CV accuracy: 0.7541899441340782\n",
      "Max depth: 5, Min sample split: 300, N estimators: 50, Train accuracy: 0.7907303370786517, CV accuracy: 0.770949720670391\n",
      "Max depth: 5, Min sample split: 300, N estimators: 100, Train accuracy: 0.7893258426966292, CV accuracy: 0.776536312849162\n",
      "Max depth: 5, Min sample split: 300, N estimators: 150, Train accuracy: 0.7893258426966292, CV accuracy: 0.776536312849162\n",
      "Max depth: 5, Min sample split: 300, N estimators: 200, Train accuracy: 0.7893258426966292, CV accuracy: 0.776536312849162\n",
      "Max depth: 6, Min sample split: 30, N estimators: 50, Train accuracy: 0.7963483146067416, CV accuracy: 0.770949720670391\n",
      "Max depth: 6, Min sample split: 30, N estimators: 100, Train accuracy: 0.7963483146067416, CV accuracy: 0.770949720670391\n",
      "Max depth: 6, Min sample split: 30, N estimators: 150, Train accuracy: 0.7963483146067416, CV accuracy: 0.770949720670391\n",
      "Max depth: 6, Min sample split: 30, N estimators: 200, Train accuracy: 0.7963483146067416, CV accuracy: 0.770949720670391\n",
      "Max depth: 6, Min sample split: 50, N estimators: 50, Train accuracy: 0.7949438202247191, CV accuracy: 0.7653631284916201\n",
      "Max depth: 6, Min sample split: 50, N estimators: 100, Train accuracy: 0.7963483146067416, CV accuracy: 0.770949720670391\n",
      "Max depth: 6, Min sample split: 50, N estimators: 150, Train accuracy: 0.7963483146067416, CV accuracy: 0.770949720670391\n",
      "Max depth: 6, Min sample split: 50, N estimators: 200, Train accuracy: 0.7963483146067416, CV accuracy: 0.770949720670391\n",
      "Max depth: 6, Min sample split: 100, N estimators: 50, Train accuracy: 0.7921348314606742, CV accuracy: 0.7541899441340782\n",
      "Max depth: 6, Min sample split: 100, N estimators: 100, Train accuracy: 0.7935393258426966, CV accuracy: 0.7597765363128491\n",
      "Max depth: 6, Min sample split: 100, N estimators: 150, Train accuracy: 0.7963483146067416, CV accuracy: 0.770949720670391\n",
      "Max depth: 6, Min sample split: 100, N estimators: 200, Train accuracy: 0.7935393258426966, CV accuracy: 0.7597765363128491\n",
      "Max depth: 6, Min sample split: 150, N estimators: 50, Train accuracy: 0.7696629213483146, CV accuracy: 0.7597765363128491\n",
      "Max depth: 6, Min sample split: 150, N estimators: 100, Train accuracy: 0.7696629213483146, CV accuracy: 0.7597765363128491\n",
      "Max depth: 6, Min sample split: 150, N estimators: 150, Train accuracy: 0.7879213483146067, CV accuracy: 0.7486033519553073\n",
      "Max depth: 6, Min sample split: 150, N estimators: 200, Train accuracy: 0.7935393258426966, CV accuracy: 0.7486033519553073\n",
      "Max depth: 6, Min sample split: 200, N estimators: 50, Train accuracy: 0.7710674157303371, CV accuracy: 0.7597765363128491\n",
      "Max depth: 6, Min sample split: 200, N estimators: 100, Train accuracy: 0.7710674157303371, CV accuracy: 0.7597765363128491\n",
      "Max depth: 6, Min sample split: 200, N estimators: 150, Train accuracy: 0.7893258426966292, CV accuracy: 0.7486033519553073\n",
      "Max depth: 6, Min sample split: 200, N estimators: 200, Train accuracy: 0.7963483146067416, CV accuracy: 0.7486033519553073\n",
      "Max depth: 6, Min sample split: 250, N estimators: 50, Train accuracy: 0.7865168539325843, CV accuracy: 0.7486033519553073\n",
      "Max depth: 6, Min sample split: 250, N estimators: 100, Train accuracy: 0.7921348314606742, CV accuracy: 0.7486033519553073\n",
      "Max depth: 6, Min sample split: 250, N estimators: 150, Train accuracy: 0.7907303370786517, CV accuracy: 0.7486033519553073\n",
      "Max depth: 6, Min sample split: 250, N estimators: 200, Train accuracy: 0.7921348314606742, CV accuracy: 0.7541899441340782\n",
      "Max depth: 6, Min sample split: 300, N estimators: 50, Train accuracy: 0.7907303370786517, CV accuracy: 0.770949720670391\n",
      "Max depth: 6, Min sample split: 300, N estimators: 100, Train accuracy: 0.7893258426966292, CV accuracy: 0.776536312849162\n",
      "Max depth: 6, Min sample split: 300, N estimators: 150, Train accuracy: 0.7893258426966292, CV accuracy: 0.776536312849162\n",
      "Max depth: 6, Min sample split: 300, N estimators: 200, Train accuracy: 0.7893258426966292, CV accuracy: 0.776536312849162\n",
      "Max depth: 7, Min sample split: 30, N estimators: 50, Train accuracy: 0.7963483146067416, CV accuracy: 0.770949720670391\n",
      "Max depth: 7, Min sample split: 30, N estimators: 100, Train accuracy: 0.7963483146067416, CV accuracy: 0.770949720670391\n",
      "Max depth: 7, Min sample split: 30, N estimators: 150, Train accuracy: 0.7963483146067416, CV accuracy: 0.770949720670391\n",
      "Max depth: 7, Min sample split: 30, N estimators: 200, Train accuracy: 0.7963483146067416, CV accuracy: 0.770949720670391\n",
      "Max depth: 7, Min sample split: 50, N estimators: 50, Train accuracy: 0.7963483146067416, CV accuracy: 0.770949720670391\n",
      "Max depth: 7, Min sample split: 50, N estimators: 100, Train accuracy: 0.7963483146067416, CV accuracy: 0.770949720670391\n",
      "Max depth: 7, Min sample split: 50, N estimators: 150, Train accuracy: 0.7963483146067416, CV accuracy: 0.770949720670391\n",
      "Max depth: 7, Min sample split: 50, N estimators: 200, Train accuracy: 0.7963483146067416, CV accuracy: 0.770949720670391\n",
      "Max depth: 7, Min sample split: 100, N estimators: 50, Train accuracy: 0.7921348314606742, CV accuracy: 0.7541899441340782\n",
      "Max depth: 7, Min sample split: 100, N estimators: 100, Train accuracy: 0.7907303370786517, CV accuracy: 0.7541899441340782\n",
      "Max depth: 7, Min sample split: 100, N estimators: 150, Train accuracy: 0.7963483146067416, CV accuracy: 0.770949720670391\n",
      "Max depth: 7, Min sample split: 100, N estimators: 200, Train accuracy: 0.7935393258426966, CV accuracy: 0.7597765363128491\n",
      "Max depth: 7, Min sample split: 150, N estimators: 50, Train accuracy: 0.7696629213483146, CV accuracy: 0.7597765363128491\n",
      "Max depth: 7, Min sample split: 150, N estimators: 100, Train accuracy: 0.7696629213483146, CV accuracy: 0.7597765363128491\n",
      "Max depth: 7, Min sample split: 150, N estimators: 150, Train accuracy: 0.7879213483146067, CV accuracy: 0.7486033519553073\n",
      "Max depth: 7, Min sample split: 150, N estimators: 200, Train accuracy: 0.7935393258426966, CV accuracy: 0.7486033519553073\n",
      "Max depth: 7, Min sample split: 200, N estimators: 50, Train accuracy: 0.7710674157303371, CV accuracy: 0.7597765363128491\n",
      "Max depth: 7, Min sample split: 200, N estimators: 100, Train accuracy: 0.7710674157303371, CV accuracy: 0.7597765363128491\n",
      "Max depth: 7, Min sample split: 200, N estimators: 150, Train accuracy: 0.7893258426966292, CV accuracy: 0.7486033519553073\n",
      "Max depth: 7, Min sample split: 200, N estimators: 200, Train accuracy: 0.7963483146067416, CV accuracy: 0.7486033519553073\n",
      "Max depth: 7, Min sample split: 250, N estimators: 50, Train accuracy: 0.7865168539325843, CV accuracy: 0.7486033519553073\n",
      "Max depth: 7, Min sample split: 250, N estimators: 100, Train accuracy: 0.7921348314606742, CV accuracy: 0.7486033519553073\n",
      "Max depth: 7, Min sample split: 250, N estimators: 150, Train accuracy: 0.7907303370786517, CV accuracy: 0.7486033519553073\n",
      "Max depth: 7, Min sample split: 250, N estimators: 200, Train accuracy: 0.7921348314606742, CV accuracy: 0.7541899441340782\n",
      "Max depth: 7, Min sample split: 300, N estimators: 50, Train accuracy: 0.7907303370786517, CV accuracy: 0.770949720670391\n",
      "Max depth: 7, Min sample split: 300, N estimators: 100, Train accuracy: 0.7893258426966292, CV accuracy: 0.776536312849162\n",
      "Max depth: 7, Min sample split: 300, N estimators: 150, Train accuracy: 0.7893258426966292, CV accuracy: 0.776536312849162\n",
      "Max depth: 7, Min sample split: 300, N estimators: 200, Train accuracy: 0.7893258426966292, CV accuracy: 0.776536312849162\n",
      "Max depth: 8, Min sample split: 30, N estimators: 50, Train accuracy: 0.7963483146067416, CV accuracy: 0.770949720670391\n",
      "Max depth: 8, Min sample split: 30, N estimators: 100, Train accuracy: 0.7963483146067416, CV accuracy: 0.770949720670391\n",
      "Max depth: 8, Min sample split: 30, N estimators: 150, Train accuracy: 0.7963483146067416, CV accuracy: 0.770949720670391\n",
      "Max depth: 8, Min sample split: 30, N estimators: 200, Train accuracy: 0.7963483146067416, CV accuracy: 0.770949720670391\n",
      "Max depth: 8, Min sample split: 50, N estimators: 50, Train accuracy: 0.7949438202247191, CV accuracy: 0.7653631284916201\n",
      "Max depth: 8, Min sample split: 50, N estimators: 100, Train accuracy: 0.7963483146067416, CV accuracy: 0.770949720670391\n",
      "Max depth: 8, Min sample split: 50, N estimators: 150, Train accuracy: 0.7963483146067416, CV accuracy: 0.770949720670391\n",
      "Max depth: 8, Min sample split: 50, N estimators: 200, Train accuracy: 0.7963483146067416, CV accuracy: 0.770949720670391\n",
      "Max depth: 8, Min sample split: 100, N estimators: 50, Train accuracy: 0.7963483146067416, CV accuracy: 0.7486033519553073\n",
      "Max depth: 8, Min sample split: 100, N estimators: 100, Train accuracy: 0.7907303370786517, CV accuracy: 0.7541899441340782\n",
      "Max depth: 8, Min sample split: 100, N estimators: 150, Train accuracy: 0.7963483146067416, CV accuracy: 0.770949720670391\n",
      "Max depth: 8, Min sample split: 100, N estimators: 200, Train accuracy: 0.7935393258426966, CV accuracy: 0.7597765363128491\n",
      "Max depth: 8, Min sample split: 150, N estimators: 50, Train accuracy: 0.7696629213483146, CV accuracy: 0.7597765363128491\n",
      "Max depth: 8, Min sample split: 150, N estimators: 100, Train accuracy: 0.7696629213483146, CV accuracy: 0.7597765363128491\n",
      "Max depth: 8, Min sample split: 150, N estimators: 150, Train accuracy: 0.7879213483146067, CV accuracy: 0.7486033519553073\n",
      "Max depth: 8, Min sample split: 150, N estimators: 200, Train accuracy: 0.7935393258426966, CV accuracy: 0.7486033519553073\n",
      "Max depth: 8, Min sample split: 200, N estimators: 50, Train accuracy: 0.7710674157303371, CV accuracy: 0.7597765363128491\n",
      "Max depth: 8, Min sample split: 200, N estimators: 100, Train accuracy: 0.7710674157303371, CV accuracy: 0.7597765363128491\n",
      "Max depth: 8, Min sample split: 200, N estimators: 150, Train accuracy: 0.7893258426966292, CV accuracy: 0.7486033519553073\n",
      "Max depth: 8, Min sample split: 200, N estimators: 200, Train accuracy: 0.7963483146067416, CV accuracy: 0.7486033519553073\n",
      "Max depth: 8, Min sample split: 250, N estimators: 50, Train accuracy: 0.7865168539325843, CV accuracy: 0.7486033519553073\n",
      "Max depth: 8, Min sample split: 250, N estimators: 100, Train accuracy: 0.7921348314606742, CV accuracy: 0.7486033519553073\n",
      "Max depth: 8, Min sample split: 250, N estimators: 150, Train accuracy: 0.7907303370786517, CV accuracy: 0.7486033519553073\n",
      "Max depth: 8, Min sample split: 250, N estimators: 200, Train accuracy: 0.7921348314606742, CV accuracy: 0.7541899441340782\n",
      "Max depth: 8, Min sample split: 300, N estimators: 50, Train accuracy: 0.7907303370786517, CV accuracy: 0.770949720670391\n",
      "Max depth: 8, Min sample split: 300, N estimators: 100, Train accuracy: 0.7893258426966292, CV accuracy: 0.776536312849162\n",
      "Max depth: 8, Min sample split: 300, N estimators: 150, Train accuracy: 0.7893258426966292, CV accuracy: 0.776536312849162\n",
      "Max depth: 8, Min sample split: 300, N estimators: 200, Train accuracy: 0.7893258426966292, CV accuracy: 0.776536312849162\n",
      "(30, 50, np.float64(0.7963483146067416), np.float64(0.770949720670391))\n"
     ]
    }
   ],
   "execution_count": 11
  },
  {
   "metadata": {
    "ExecuteTime": {
     "end_time": "2025-09-03T21:59:00.372018Z",
     "start_time": "2025-09-03T21:59:00.327010Z"
    }
   },
   "cell_type": "code",
   "source": [
    "import matplotlib.pyplot as plt\n",
    "%matplotlib inline\n",
    "plt.plot(range(len(model_evals)), [model[4] for model in model_evals])\n",
    "plt.plot(range(len(model_evals)), [model[5] for model in model_evals])\n",
    "plt.legend([\"Train accuracy\", \"CV accuracy\"])\n",
    "plt.show()"
   ],
   "id": "1473d16b79ce69d",
   "outputs": [
    {
     "data": {
      "text/plain": [
       "<Figure size 640x480 with 1 Axes>"
      ],
      "image/png": "[encoded data removed]"
     },
     "metadata": {},
     "output_type": "display_data"
    }
   ],
   "execution_count": 12
  },
  {
   "metadata": {
    "ExecuteTime": {
     "end_time": "2025-09-03T19:22:24.653620Z",
     "start_time": "2025-09-03T19:22:24.645247Z"
    }
   },
   "cell_type": "code",
   "source": [
    "df_test = pd.read_csv(\"../data/test.csv\", delimiter=\",\")\n",
    "\n",
    "best_model = best_model_params[0]\n",
    "y_test_hat = best_model.predict(df_test)\n",
    "output = pd.DataFrame({\n",
    "    \"PassengerId\": df_test[\"PassengerId\"],\n",
    "    \"Survived\": y_test_hat\n",
    "})\n",
    "output.to_csv(\"submission.csv\", index=False)"
   ],
   "id": "561abb7b1152d890",
   "outputs": [],
   "execution_count": 7
  }
 ],
 "metadata": {
  "kernelspec": {
   "display_name": "Python 3",
   "language": "python",
   "name": "python3"
  },
  "language_info": {
   "codemirror_mode": {
    "name": "ipython",
    "version": 2
   },
   "file_extension": ".py",
   "mimetype": "text/x-python",
   "name": "python",
   "nbconvert_exporter": "python",
   "pygments_lexer": "ipython2",
   "version": "2.7.6"
  }
 },
 "nbformat": 4,
 "nbformat_minor": 5
}
